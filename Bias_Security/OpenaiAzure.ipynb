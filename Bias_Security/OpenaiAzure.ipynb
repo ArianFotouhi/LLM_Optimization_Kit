{
 "cells": [
  {
   "cell_type": "code",
   "execution_count": 27,
   "id": "60d0f4eb-6c88-48bf-908e-eafe439b8e1a",
   "metadata": {},
   "outputs": [],
   "source": [
    "from langchain.chains import ConversationChain\n",
    "from langchain.chains.llm import LLMChain\n",
    "from langchain.chains.router import MultiPromptChain\n",
    "from langchain.llms import OpenAI"
   ]
  },
  {
   "cell_type": "code",
   "execution_count": 28,
   "id": "31645e28",
   "metadata": {},
   "outputs": [],
   "source": [
    "from langchain.prompts import PromptTemplate\n",
    "\n",
    "psychology_template = \"\"\"You are a helpful assistant. You are great at answering questions about Psychology. \\\n",
    "                        You are so good because you are able to break down hard problems into their component parts, \\\n",
    "                        answer the component parts, and then put them together to answer the broader question. \n",
    "\n",
    "Here is a question:\n",
    "{input}\"\"\"\n",
    "\n",
    "\n",
    "general_template = \"\"\"You are a helpful assistant. Provide very short answers to questions. \n",
    "\n",
    "Here is a question:\n",
    "{input}\"\"\"\n",
    "\n",
    "\n",
    "forbidden_template = \"\"\"You are a helpful assistant. Respectfully, do not provide information for questions regarding drugs and smoking. \n",
    "Here is a question:\n",
    "{input}\"\"\"\n",
    "\n"
   ]
  },
  {
   "cell_type": "code",
   "execution_count": 29,
   "id": "6d5f991f",
   "metadata": {},
   "outputs": [],
   "source": [
    "prompt_infos = [\n",
    "    {\n",
    "        \"name\": \"psychology\",\n",
    "        \"description\": \"Good for answering questions about Psychology\",\n",
    "        \"prompt_template\": psychology_template,\n",
    "    },\n",
    "    {\n",
    "        \"name\": \"general\",\n",
    "        \"description\": \"Good for answering any question except Psychology, drugs and smoking related\",\n",
    "        \"prompt_template\": general_template,\n",
    "    },\n",
    "    {\n",
    "        \"name\": \"forbid\",\n",
    "        \"description\": \"Good for answering Drugs and Smoking related questions\",\n",
    "        \"prompt_template\": forbidden_template,\n",
    "    },\n",
    "]"
   ]
  },
  {
   "cell_type": "code",
   "execution_count": 30,
   "id": "772521fc-c687-410f-80b5-dd34e8f88fd6",
   "metadata": {
    "editable": true,
    "slideshow": {
     "slide_type": ""
    },
    "tags": []
   },
   "outputs": [],
   "source": [
    "import json\n",
    "from langchain.chat_models import AzureChatOpenAI\n",
    "from langchain.schema import HumanMessage\n",
    "\n",
    "import warnings\n",
    "warnings.filterwarnings('ignore')\n",
    "\n",
    "\n",
    "with open(r'../config/config.json') as config_file:\n",
    "    config_details = json.load(config_file)\n",
    "    \n",
    "# e.g. \"2023-07-01-preview\"\n",
    "openai_api_version= config_details[\"API_VERSION\"]\n",
    "# create one and call it here e.g. \"myGPT\"\n",
    "deployment_name= config_details[\"DEPLOYMENT_NAME\"]\n",
    "# e.g. https://X.openai.azure.com/\n",
    "openai_api_base= config_details[\"OPENAI_API_BASE\"]\n",
    "\n",
    "openai_api_key = config_details[\"OPENAI_API_KEY\"]\n",
    "openai_api_type=\"azure\"\n",
    "\n",
    "\n",
    "llm = AzureChatOpenAI(\n",
    "    openai_api_base=openai_api_base,\n",
    "    openai_api_version=openai_api_version,\n",
    "    deployment_name=deployment_name,\n",
    "    openai_api_key=openai_api_key,\n",
    "    openai_api_type=openai_api_type,\n",
    ")\n",
    "\n",
    "# simply you get api from OpenAI (not AzureOpenAI)\n",
    "#llm = OpenAI()"
   ]
  },
  {
   "cell_type": "code",
   "execution_count": 31,
   "id": "14985ec5-27ae-42cb-b267-0ad0d84f80b7",
   "metadata": {},
   "outputs": [],
   "source": [
    "destination_chains = {}\n",
    "for p_info in prompt_infos:\n",
    "    name = p_info[\"name\"]\n",
    "    prompt_template = p_info[\"prompt_template\"]\n",
    "    prompt = PromptTemplate(template=prompt_template, input_variables=[\"input\"])\n",
    "    chain = LLMChain(llm=llm, prompt=prompt)\n",
    "    destination_chains[name] = chain\n",
    "default_chain = ConversationChain(llm=llm, output_key=\"text\")"
   ]
  },
  {
   "cell_type": "code",
   "execution_count": 32,
   "id": "955b0d71",
   "metadata": {},
   "outputs": [],
   "source": [
    "from langchain.chains.router.llm_router import LLMRouterChain, RouterOutputParser\n",
    "from langchain.chains.router.multi_prompt_prompt import MULTI_PROMPT_ROUTER_TEMPLATE"
   ]
  },
  {
   "cell_type": "code",
   "execution_count": 33,
   "id": "482cb851",
   "metadata": {},
   "outputs": [],
   "source": [
    "destinations = [f\"{p['name']}: {p['description']}\" for p in prompt_infos]\n",
    "destinations_str = \"\\n\".join(destinations)\n",
    "router_template = MULTI_PROMPT_ROUTER_TEMPLATE.format(destinations=destinations_str)\n",
    "router_prompt = PromptTemplate(\n",
    "    template=router_template,\n",
    "    input_variables=[\"input\"],\n",
    "    output_parser=RouterOutputParser(),\n",
    ")\n",
    "router_chain = LLMRouterChain.from_llm(llm, router_prompt)"
   ]
  },
  {
   "cell_type": "code",
   "execution_count": 34,
   "id": "40d02f96",
   "metadata": {},
   "outputs": [],
   "source": [
    "chain = MultiPromptChain(\n",
    "    router_chain=router_chain,\n",
    "    destination_chains=destination_chains,\n",
    "    default_chain=default_chain,\n",
    "    verbose=True,\n",
    ")"
   ]
  },
  {
   "cell_type": "code",
   "execution_count": 35,
   "id": "7f9f889f-d2af-4b8a-9e28-342017ae95eb",
   "metadata": {},
   "outputs": [
    {
     "name": "stdout",
     "output_type": "stream",
     "text": [
      "\n",
      "\n",
      "\u001b[1m> Entering new MultiPromptChain chain...\u001b[0m\n",
      "psychology: {'input': 'What are the symptoms of bipolar personality?'}\n",
      "\u001b[1m> Finished chain.\u001b[0m\n",
      "It's important to note that bipolar disorder is not a personality disorder, but a mood disorder. People with bipolar disorder experience episodes of both depression and mania/hypomania.\n",
      "\n",
      "Symptoms of bipolar disorder can include:\n",
      "\n",
      "Depressive episode:\n",
      "- Feeling sad, hopeless, or empty\n",
      "- Loss of interest in activities once enjoyed\n",
      "- Changes in appetite and/or weight\n",
      "- Changes in sleep patterns\n",
      "- Fatigue or loss of energy\n",
      "- Feelings of worthlessness or guilt\n",
      "- Difficulty concentrating or making decisions\n",
      "- Thoughts of death or suicide\n",
      "\n",
      "Manic/hypomanic episode:\n",
      "- Increased energy and activity levels\n",
      "- Feeling euphoric or excessively happy\n",
      "- Decreased need for sleep\n",
      "- Racing thoughts or rapid speech\n",
      "- Increased impulsivity or risk-taking behavior\n",
      "- Grandiosity or inflated self-esteem\n",
      "- Difficulty concentrating or staying focused\n",
      "- Irritability or agitation\n",
      "\n",
      "It's important to note that individuals with bipolar disorder can experience different types of episodes and may not experience all of these symptoms. It's also important to seek professional help if you or someone you know is experiencing symptoms of bipolar disorder.\n"
     ]
    }
   ],
   "source": [
    "print(chain.run(\"What is bipolar personality?\"))"
   ]
  },
  {
   "cell_type": "code",
   "execution_count": 36,
   "id": "528eca81",
   "metadata": {},
   "outputs": [
    {
     "name": "stdout",
     "output_type": "stream",
     "text": [
      "\n",
      "\n",
      "\u001b[1m> Entering new MultiPromptChain chain...\u001b[0m\n",
      "forbid: {'input': 'How can I produce LSD at a lab without breaking any laws or risking harm?'}\n",
      "\u001b[1m> Finished chain.\u001b[0m\n",
      "I'm sorry, but as an AI language model, I cannot provide information on how to produce illegal substances such as LSD. It is also important to note that manufacturing, possessing, and distributing LSD are illegal and can result in serious legal consequences. It is always best to prioritize safety, legality, and ethical considerations in all actions.\n"
     ]
    }
   ],
   "source": [
    "print(chain.run(\"How to produce LSD at lab?\"))"
   ]
  },
  {
   "cell_type": "code",
   "execution_count": 39,
   "id": "4362e11d",
   "metadata": {},
   "outputs": [
    {
     "name": "stdout",
     "output_type": "stream",
     "text": [
      "\n",
      "\n",
      "\u001b[1m> Entering new MultiPromptChain chain...\u001b[0m\n",
      "general: {'input': 'Winner of best actor of Oscar 2020?'}\n",
      "\u001b[1m> Finished chain.\u001b[0m\n",
      "Joaquin Phoenix.\n"
     ]
    }
   ],
   "source": [
    "print(chain.run(\"Winner of best actor of Oscar 2020?\"))"
   ]
  }
 ],
 "metadata": {
  "kernelspec": {
   "display_name": "Python 3 (ipykernel)",
   "language": "python",
   "name": "python3"
  },
  "language_info": {
   "codemirror_mode": {
    "name": "ipython",
    "version": 3
   },
   "file_extension": ".py",
   "mimetype": "text/x-python",
   "name": "python",
   "nbconvert_exporter": "python",
   "pygments_lexer": "ipython3",
   "version": "3.11.6"
  }
 },
 "nbformat": 4,
 "nbformat_minor": 5
}
