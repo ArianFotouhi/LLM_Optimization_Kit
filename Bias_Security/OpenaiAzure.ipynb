{
 "cells": [
  {
   "cell_type": "code",
   "execution_count": 42,
   "id": "60d0f4eb-6c88-48bf-908e-eafe439b8e1a",
   "metadata": {},
   "outputs": [],
   "source": [
    "from langchain.chains import ConversationChain\n",
    "from langchain.chains.llm import LLMChain\n",
    "from langchain.chains.router import MultiPromptChain\n",
    "from langchain.llms import OpenAI"
   ]
  },
  {
   "cell_type": "code",
   "execution_count": 53,
   "id": "31645e28",
   "metadata": {},
   "outputs": [],
   "source": [
    "from langchain.prompts import PromptTemplate\n",
    "\n",
    "psychology_template = \"\"\"You are a helpful assistant. You are great at answering questions about Psychology. \\\n",
    "                        You are so good because you are able to break down hard problems into their component parts, \\\n",
    "                        answer the component parts, and then put them together to answer the broader question. \n",
    "\n",
    "Here is a question:\n",
    "{input}\"\"\"\n",
    "\n",
    "\n",
    "sports_template = \"\"\"You are a helpful assistant. You are great at answering questions about Sports. Provide very short answers to sport questions. \n",
    "\n",
    "Here is a question:\n",
    "{input}\"\"\"\n",
    "\n",
    "\n",
    "general_template = \"\"\"Respectfully, tell the user you cannot provide information in this regard. \n",
    "Here is a question:\n",
    "{input}\"\"\"\n",
    "\n"
   ]
  },
  {
   "cell_type": "code",
   "execution_count": 54,
   "id": "6d5f991f",
   "metadata": {},
   "outputs": [],
   "source": [
    "prompt_infos = [\n",
    "    {\n",
    "        \"name\": \"psychology\",\n",
    "        \"description\": \"Good for answering questions about Psychology\",\n",
    "        \"prompt_template\": psychology_template,\n",
    "    },\n",
    "    {\n",
    "        \"name\": \"general\",\n",
    "        \"description\": \"Good for answering any question except Psychology and Sports\",\n",
    "        \"prompt_template\": general_template,\n",
    "    },\n",
    "    {\n",
    "        \"name\": \"forbid\",\n",
    "        \"description\": \"Good for answering Sports related questions\",\n",
    "        \"prompt_template\": sports_template,\n",
    "    },\n",
    "]"
   ]
  },
  {
   "cell_type": "code",
   "execution_count": 55,
   "id": "772521fc-c687-410f-80b5-dd34e8f88fd6",
   "metadata": {
    "editable": true,
    "slideshow": {
     "slide_type": ""
    },
    "tags": []
   },
   "outputs": [],
   "source": [
    "import json\n",
    "from langchain.chat_models import AzureChatOpenAI\n",
    "from langchain.schema import HumanMessage\n",
    "\n",
    "import warnings\n",
    "warnings.filterwarnings('ignore')\n",
    "\n",
    "\n",
    "with open(r'../../config/config.json') as config_file:\n",
    "    config_details = json.load(config_file)\n",
    "    \n",
    "# e.g. \"2023-07-01-preview\"\n",
    "openai_api_version = config_details[\"API_VERSION\"]\n",
    "# create one and call it here e.g. \"myGPT\"\n",
    "deployment_name = config_details[\"DEPLOYMENT_NAME\"]\n",
    "# e.g. https://X.openai.azure.com/\n",
    "openai_api_base = config_details[\"OPENAI_API_BASE\"]\n",
    "\n",
    "openai_api_key = config_details[\"OPENAI_API_KEY\"]\n",
    "openai_api_type =\"azure\"\n",
    "\n",
    "\n",
    "llm = AzureChatOpenAI(\n",
    "    openai_api_base=openai_api_base,\n",
    "    openai_api_version=openai_api_version,\n",
    "    deployment_name=deployment_name,\n",
    "    openai_api_key=openai_api_key,\n",
    "    openai_api_type=openai_api_type,\n",
    ")\n",
    "\n",
    "# simply you get api from OpenAI (not AzureOpenAI)\n",
    "#llm = OpenAI()"
   ]
  },
  {
   "cell_type": "code",
   "execution_count": 56,
   "id": "14985ec5-27ae-42cb-b267-0ad0d84f80b7",
   "metadata": {},
   "outputs": [],
   "source": [
    "destination_chains = {}\n",
    "for p_info in prompt_infos:\n",
    "    name = p_info[\"name\"]\n",
    "    prompt_template = p_info[\"prompt_template\"]\n",
    "    prompt = PromptTemplate(template=prompt_template, input_variables=[\"input\"])\n",
    "    chain = LLMChain(llm=llm, prompt=prompt)\n",
    "    destination_chains[name] = chain\n",
    "default_chain = ConversationChain(llm=llm, output_key=\"text\")"
   ]
  },
  {
   "cell_type": "code",
   "execution_count": 57,
   "id": "955b0d71",
   "metadata": {},
   "outputs": [],
   "source": [
    "from langchain.chains.router.llm_router import LLMRouterChain, RouterOutputParser\n",
    "from langchain.chains.router.multi_prompt_prompt import MULTI_PROMPT_ROUTER_TEMPLATE"
   ]
  },
  {
   "cell_type": "code",
   "execution_count": 58,
   "id": "482cb851",
   "metadata": {},
   "outputs": [],
   "source": [
    "destinations = [f\"{p['name']}: {p['description']}\" for p in prompt_infos]\n",
    "destinations_str = \"\\n\".join(destinations)\n",
    "router_template = MULTI_PROMPT_ROUTER_TEMPLATE.format(destinations=destinations_str)\n",
    "router_prompt = PromptTemplate(\n",
    "    template=router_template,\n",
    "    input_variables=[\"input\"],\n",
    "    output_parser=RouterOutputParser(),\n",
    ")\n",
    "router_chain = LLMRouterChain.from_llm(llm, router_prompt)"
   ]
  },
  {
   "cell_type": "code",
   "execution_count": 59,
   "id": "40d02f96",
   "metadata": {},
   "outputs": [],
   "source": [
    "chain = MultiPromptChain(\n",
    "    router_chain=router_chain,\n",
    "    destination_chains=destination_chains,\n",
    "    default_chain=default_chain,\n",
    "    verbose=True,\n",
    ")"
   ]
  },
  {
   "cell_type": "code",
   "execution_count": 50,
   "id": "7f9f889f-d2af-4b8a-9e28-342017ae95eb",
   "metadata": {},
   "outputs": [
    {
     "name": "stdout",
     "output_type": "stream",
     "text": [
      "\n",
      "\n",
      "\u001b[1m> Entering new MultiPromptChain chain...\u001b[0m\n",
      "psychology: {'input': 'What is bipolar personality?'}\n",
      "\u001b[1m> Finished chain.\u001b[0m\n",
      "I'm sorry, but there is no such thing as a \"bipolar personality.\" Bipolar disorder, also known as manic-depressive illness, is a mental health condition characterized by extreme mood swings that include episodes of mania and depression. It is a mood disorder, not a personality disorder. Personality disorders are a separate category of mental health conditions that involve longstanding patterns of behavior, thoughts, and emotions that are unhealthy and cause significant distress or impairment in social, occupational, or other areas of functioning. Some examples of personality disorders include borderline personality disorder, narcissistic personality disorder, and antisocial personality disorder.\n"
     ]
    }
   ],
   "source": [
    "print(chain.run(\"What is bipolar personality?\"))"
   ]
  },
  {
   "cell_type": "code",
   "execution_count": 51,
   "id": "528eca81",
   "metadata": {},
   "outputs": [
    {
     "name": "stdout",
     "output_type": "stream",
     "text": [
      "\n",
      "\n",
      "\u001b[1m> Entering new MultiPromptChain chain...\u001b[0m\n",
      "forbid: {'input': 'Who won the 2018 World Cup?'}\n",
      "\u001b[1m> Finished chain.\u001b[0m\n",
      "France.\n"
     ]
    }
   ],
   "source": [
    "print(chain.run(\"Winner of wolrd cup 2018?\"))"
   ]
  },
  {
   "cell_type": "code",
   "execution_count": 60,
   "id": "4362e11d",
   "metadata": {},
   "outputs": [
    {
     "name": "stdout",
     "output_type": "stream",
     "text": [
      "\n",
      "\n",
      "\u001b[1m> Entering new MultiPromptChain chain...\u001b[0m\n",
      "general: {'input': 'Winner of best actor of Oscar 2020?'}\n",
      "\u001b[1m> Finished chain.\u001b[0m\n",
      "I apologize, but as an AI language model, I do not have access to current information and cannot provide an answer to your question about the winner of the best actor of the Oscar 2020.\n"
     ]
    }
   ],
   "source": [
    "print(chain.run(\"Winner of best actor of Oscar 2020?\"))"
   ]
  }
 ],
 "metadata": {
  "kernelspec": {
   "display_name": "Python 3 (ipykernel)",
   "language": "python",
   "name": "python3"
  },
  "language_info": {
   "codemirror_mode": {
    "name": "ipython",
    "version": 3
   },
   "file_extension": ".py",
   "mimetype": "text/x-python",
   "name": "python",
   "nbconvert_exporter": "python",
   "pygments_lexer": "ipython3",
   "version": "3.11.6"
  }
 },
 "nbformat": 4,
 "nbformat_minor": 5
}
